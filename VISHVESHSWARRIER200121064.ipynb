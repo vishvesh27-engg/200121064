{
 "cells": [
  {
   "cell_type": "code",
   "execution_count": 1,
   "metadata": {},
   "outputs": [],
   "source": [
    "import pandas as pd\n",
    "from sklearn.ensemble import RandomForestClassifier\n",
    "from sklearn.model_selection import train_test_split\n",
    "from sklearn.preprocessing import OneHotEncoder\n",
    "from sklearn.linear_model import LogisticRegression\n",
    "from sklearn.metrics import accuracy_score"
   ]
  },
  {
   "cell_type": "code",
   "execution_count": 2,
   "metadata": {
    "scrolled": true
   },
   "outputs": [
    {
     "data": {
      "text/plain": [
       "No                    1571\n",
       "Yes                    164\n",
       "I don't use Tinder     161\n",
       "Name: Answer, dtype: int64"
      ]
     },
     "execution_count": 2,
     "metadata": {},
     "output_type": "execute_result"
    }
   ],
   "source": [
    "#reading the data into the python notebook in form of a dataframe\n",
    "my_data = pd.read_csv(r'C:\\Users\\vishv_ladru5n\\Downloads\\task2.csv')\n",
    "my_data[\"Answer\"].value_counts()"
   ]
  },
  {
   "cell_type": "code",
   "execution_count": 4,
   "metadata": {},
   "outputs": [
    {
     "name": "stdout",
     "output_type": "stream",
     "text": [
      "ID                          0\n",
      "Segment type                0\n",
      "Segment Description         0\n",
      "Answer                      0\n",
      "Count                       0\n",
      "Percentage                  0\n",
      "It became a relationship    0\n",
      "dtype: int64\n"
     ]
    }
   ],
   "source": [
    "#check for missing values\n",
    "print(my_data.isnull().sum())"
   ]
  },
  {
   "cell_type": "code",
   "execution_count": 5,
   "metadata": {},
   "outputs": [],
   "source": [
    "#assigning the dependent variable to y and dropping the answer column as it is inconsistent with the dependent variable\n",
    "y=my_data['It became a relationship']\n",
    "object_cols=['Segment type']\n",
    "X=my_data.drop(['It became a relationship','Answer'],axis=1)"
   ]
  },
  {
   "cell_type": "code",
   "execution_count": 6,
   "metadata": {},
   "outputs": [],
   "source": [
    "#splitting the dataframe into train and test sets\n",
    "train_X, val_X, train_y, val_y = train_test_split(X, y, random_state = 0,train_size =0.8,test_size=0.2)"
   ]
  },
  {
   "cell_type": "code",
   "execution_count": 7,
   "metadata": {},
   "outputs": [],
   "source": [
    "#one hot encoding categorical column\n",
    "OH_encoder = OneHotEncoder(handle_unknown='ignore', sparse=False)\n",
    "OH_cols_train = pd.DataFrame(OH_encoder.fit_transform(train_X[object_cols]))\n",
    "OH_cols_valid = pd.DataFrame(OH_encoder.transform(val_X[object_cols]))\n",
    "OH_cols_train.index = train_X.index\n",
    "OH_cols_valid.index = val_X.index\n",
    "num_X_train=train_X.drop(['Segment Description','Segment type'],axis=1)\n",
    "num_X_valid=val_X.drop(['Segment Description','Segment type'],axis=1)\n",
    "OH_X_train = pd.concat([num_X_train, OH_cols_train], axis=1)\n",
    "OH_X_valid = pd.concat([num_X_valid, OH_cols_valid], axis=1)"
   ]
  },
  {
   "cell_type": "code",
   "execution_count": 8,
   "metadata": {},
   "outputs": [
    {
     "name": "stdout",
     "output_type": "stream",
     "text": [
      "accuracy : 91.84210526315789 %\n"
     ]
    }
   ],
   "source": [
    "#RandomForestClassifiermodel\n",
    "model_2= RandomForestClassifier(n_estimators=50)\n",
    "model_2.fit(OH_X_train,train_y)\n",
    "from sklearn.metrics import mean_absolute_error\n",
    "predicted=model_2.predict(OH_X_valid)\n",
    "print(\"accuracy :\",(accuracy_score(val_y, predicted)*100),\"%\")"
   ]
  },
  {
   "cell_type": "code",
   "execution_count": 9,
   "metadata": {},
   "outputs": [
    {
     "name": "stdout",
     "output_type": "stream",
     "text": [
      "accuracy : 91.57894736842105 %\n"
     ]
    }
   ],
   "source": [
    "#XGBClassifier\n",
    "from xgboost import XGBClassifier\n",
    "my_model = XGBClassifier(n_estimators=50, learning_rate=0.5,n_jobs=5,use_label_encoder=False)\n",
    "my_model.fit(OH_X_train, train_y, \n",
    "             early_stopping_rounds=4, \n",
    "             eval_set=[(OH_X_valid,val_y)],eval_metric='logloss', \n",
    "             verbose=False)\n",
    "predicted=my_model.predict(OH_X_valid)\n",
    "print(\"accuracy :\",(accuracy_score(val_y, predicted)*100),\"%\")"
   ]
  }
 ],
 "metadata": {
  "kernelspec": {
   "display_name": "Python 3",
   "language": "python",
   "name": "python3"
  },
  "language_info": {
   "codemirror_mode": {
    "name": "ipython",
    "version": 3
   },
   "file_extension": ".py",
   "mimetype": "text/x-python",
   "name": "python",
   "nbconvert_exporter": "python",
   "pygments_lexer": "ipython3",
   "version": "3.8.5"
  }
 },
 "nbformat": 4,
 "nbformat_minor": 4
}
